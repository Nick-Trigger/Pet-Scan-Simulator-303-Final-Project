{
 "cells": [
  {
   "cell_type": "markdown",
   "id": "98e2573d",
   "metadata": {},
   "source": [
    "**A PET Scan Simulator**\n",
    "\n",
    "By: Nicholas Trigger and James Bradley"
   ]
  },
  {
   "cell_type": "code",
   "execution_count": 1,
   "id": "c2ed40e5",
   "metadata": {},
   "outputs": [],
   "source": [
    "from ipywidgets import interact\n",
    "import ipywidgets as widgets\n",
    "import matplotlib.pyplot as plt\n",
    "import numpy as np"
   ]
  },
  {
   "cell_type": "markdown",
   "id": "be828e3d",
   "metadata": {},
   "source": [
    "ex:"
   ]
  },
  {
   "cell_type": "code",
   "execution_count": null,
   "id": "033877f4",
   "metadata": {},
   "outputs": [
    {
     "data": {
      "application/vnd.jupyter.widget-view+json": {
       "model_id": "a4c6d17be784475684f1303fef4e74ad",
       "version_major": 2,
       "version_minor": 0
      },
      "text/plain": [
       "interactive(children=(FloatSlider(value=5.0, description='freq', max=10.0, min=1.0, step=0.5), Output()), _dom…"
      ]
     },
     "metadata": {},
     "output_type": "display_data"
    },
    {
     "data": {
      "text/plain": [
       "<function __main__.plot_func(freq)>"
      ]
     },
     "execution_count": 3,
     "metadata": {},
     "output_type": "execute_result"
    }
   ],
   "source": [
    "def plot_func(freq):\n",
    "    x = np.linspace(0, 2 * np.pi, 100)\n",
    "    y = np.sin(freq * x)\n",
    "    plt.clf()  # Clear previous plot\n",
    "    plt.plot(x, y)\n",
    "    plt.show()\n",
    "\n",
    "interact(plot_func, freq=widgets.FloatSlider(min=1.0, max=10.0, step=0.5, value=5.0))"
   ]
  }
 ],
 "metadata": {
  "kernelspec": {
   "display_name": "base",
   "language": "python",
   "name": "python3"
  },
  "language_info": {
   "codemirror_mode": {
    "name": "ipython",
    "version": 3
   },
   "file_extension": ".py",
   "mimetype": "text/x-python",
   "name": "python",
   "nbconvert_exporter": "python",
   "pygments_lexer": "ipython3",
   "version": "3.11.9"
  }
 },
 "nbformat": 4,
 "nbformat_minor": 5
}
