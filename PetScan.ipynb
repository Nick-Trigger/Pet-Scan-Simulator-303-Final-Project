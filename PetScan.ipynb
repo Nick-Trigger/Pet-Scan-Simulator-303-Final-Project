{
 "cells": [
  {
   "cell_type": "markdown",
   "id": "98e2573d",
   "metadata": {},
   "source": [
    "**A PET Scan Simulator**\n",
    "\n",
    "By: Nicholas Trigger and James Bradley\n",
    "\n",
    "\n",
    "Using Ideas from:\n",
    "    Mahoney, D., Huang, S. C., Ricci, A. R., Mazziotta, J. C., Carson, R. E., Hoffman, E. J., & Phelps, M. E. (1987). A Realistic Computer-Simulated Brain Phantom for Evaluation of PET Charactenstics. IEEE transactions on medical imaging, 6(3), 250–257. https://doi.org/10.1109/TMI.1987.4307834"
   ]
  },
  {
   "cell_type": "code",
   "execution_count": 14,
   "id": "c2ed40e5",
   "metadata": {},
   "outputs": [],
   "source": [
    "from ipywidgets import interact\n",
    "import ipywidgets as widgets\n",
    "import matplotlib.pyplot as plt\n",
    "import numpy as np\n",
    "import plotly.graph_objects as go\n",
    "from PIL import Image\n",
    "from Helpers.image_to_phantom import img_to_phantom, get_image_info"
   ]
  },
  {
   "cell_type": "markdown",
   "id": "be828e3d",
   "metadata": {},
   "source": [
    "ex:"
   ]
  },
  {
   "cell_type": "code",
   "execution_count": 15,
   "id": "f0364c36",
   "metadata": {},
   "outputs": [],
   "source": [
    "image_info = get_image_info()"
   ]
  }
 ],
 "metadata": {
  "kernelspec": {
   "display_name": "base",
   "language": "python",
   "name": "python3"
  },
  "language_info": {
   "codemirror_mode": {
    "name": "ipython",
    "version": 3
   },
   "file_extension": ".py",
   "mimetype": "text/x-python",
   "name": "python",
   "nbconvert_exporter": "python",
   "pygments_lexer": "ipython3",
   "version": "3.11.9"
  }
 },
 "nbformat": 4,
 "nbformat_minor": 5
}
